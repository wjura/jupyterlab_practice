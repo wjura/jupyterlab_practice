{
 "cells": [
  {
   "cell_type": "markdown",
   "id": "ee2caf9b-7460-4cf1-bc8c-8795b4850758",
   "metadata": {},
   "source": [
    "# Weronika Waszczuk\n",
    "# Notebook for assignment 7"
   ]
  },
  {
   "cell_type": "code",
   "execution_count": 10,
   "id": "78646208-bc1d-4028-b768-cc4b12e9f987",
   "metadata": {},
   "outputs": [
    {
     "data": {
      "text/plain": [
       "5.0"
      ]
     },
     "execution_count": 10,
     "metadata": {},
     "output_type": "execute_result"
    }
   ],
   "source": [
    "import pandas as pd\n",
    "def compute_mean(numbers):\n",
    "    n = 0\n",
    "    s = 0\n",
    "    for i in numbers:\n",
    "        s += i\n",
    "        n += 1\n",
    "    return s / n\n",
    "compute_mean([2, 4, 6, 8])"
   ]
  },
  {
   "cell_type": "code",
   "execution_count": null,
   "id": "711e0d1f-d5f2-4ce7-81f3-9d69ef910655",
   "metadata": {},
   "outputs": [],
   "source": []
  },
  {
   "cell_type": "code",
   "execution_count": null,
   "id": "f312fab5-d305-44f2-a540-5bba28658a13",
   "metadata": {},
   "outputs": [],
   "source": []
  }
 ],
 "metadata": {
  "kernelspec": {
   "display_name": "Python 3 (ipykernel)",
   "language": "python",
   "name": "python3"
  },
  "language_info": {
   "codemirror_mode": {
    "name": "ipython",
    "version": 3
   },
   "file_extension": ".py",
   "mimetype": "text/x-python",
   "name": "python",
   "nbconvert_exporter": "python",
   "pygments_lexer": "ipython3",
   "version": "3.10.9"
  }
 },
 "nbformat": 4,
 "nbformat_minor": 5
}
